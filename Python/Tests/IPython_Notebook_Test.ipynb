{
 "metadata": {
  "language_info": {
   "codemirror_mode": {
    "name": "ipython",
    "version": 3
   },
   "file_extension": ".py",
   "mimetype": "text/x-python",
   "name": "python",
   "nbconvert_exporter": "python",
   "pygments_lexer": "ipython3",
   "version": "3.9.5"
  },
  "orig_nbformat": 2,
  "kernelspec": {
   "name": "python395jvsc74a57bd0380cff5c37f5dc0eab5698e1d1d3c74737b36645125638d7e921a854b5012f47",
   "display_name": "Python 3.9.5 64-bit"
  },
  "metadata": {
   "interpreter": {
    "hash": "380cff5c37f5dc0eab5698e1d1d3c74737b36645125638d7e921a854b5012f47"
   }
  }
 },
 "nbformat": 4,
 "nbformat_minor": 2,
 "cells": [
  {
   "source": [
    "Initialization program"
   ],
   "cell_type": "markdown",
   "metadata": {}
  },
  {
   "source": [
    "# Function 1\n",
    "def sum( number1, number2):\n",
    "    print( \"Confirmation: \",number1,\" and \",number2)\n",
    "    print( \"Working...\")\n",
    "    total = number1+number2\n",
    "    return total"
   ],
   "cell_type": "code",
   "metadata": {},
   "execution_count": 4,
   "outputs": []
  },
  {
   "cell_type": "code",
   "execution_count": 5,
   "metadata": {},
   "outputs": [
    {
     "output_type": "stream",
     "name": "stdout",
     "text": [
      "Welcome...\n",
      "Confirmation:  15  and  5\n",
      "Working...\n",
      "The result is: 20\n"
     ]
    }
   ],
   "source": [
    "# Function main\n",
    "\n",
    "print(\"Welcome...\")\n",
    "num1=int(input(\"Write the number 1: \"))\n",
    "num2=int(input(\"Write the number 2: \"))\n",
    "result=sum(num1,num2)\n",
    "print(\"The result is:\",result)"
   ]
  },
  {
   "cell_type": "code",
   "execution_count": null,
   "metadata": {},
   "outputs": [],
   "source": []
  }
 ]
}